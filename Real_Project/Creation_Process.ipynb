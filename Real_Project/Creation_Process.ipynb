{
  "cells": [
    {
      "cell_type": "markdown",
      "metadata": {
        "id": "ao1t2nsdeVBF"
      },
      "source": [
        "# Importando as Bibliotecas e Examinando os Df"
      ]
    },
    {
      "cell_type": "code",
      "execution_count": null,
      "metadata": {
        "id": "MLvXYuptLj2J"
      },
      "outputs": [],
      "source": [
        "import pandas as pd\n",
        "import matplotlib.pyplot as plt\n",
        "import seaborn as sns\n",
        "import plotly.express as px\n",
        "from sklearn.model_selection import train_test_split\n",
        "from sklearn.metrics import r2_score\n",
        "import statsmodels.api as sm\n",
        "from statsmodels.stats.outliers_influence import variance_inflation_factor"
      ]
    },
    {
      "cell_type": "code",
      "execution_count": null,
      "metadata": {
        "colab": {
          "base_uri": "https://localhost:8080/"
        },
        "id": "rTdtwjt8MFyU",
        "outputId": "f21d0e6c-ea1c-44a9-99d3-ec44ffb6b8c1"
      },
      "outputs": [],
      "source": [
        "#Importando e visualizando meu dataframe\n",
        "df = pd.read_csv('Power_Plant.csv')\n",
        "\n",
        "print(df.head(), end=\"\\n\\n\")\n",
        "print(df.info())\n",
        "# PE = Y"
      ]
    },
    {
      "cell_type": "code",
      "execution_count": null,
      "metadata": {
        "colab": {
          "base_uri": "https://localhost:8080/",
          "height": 206
        },
        "id": "2cnDJ0MlN1QO",
        "outputId": "57e43377-2acd-4f14-f0a6-20b7f9e3d625"
      },
      "outputs": [],
      "source": [
        "# Renomeando as colunas para melhor entendimento dos dados\n",
        "df = df.rename(columns={'AT': 'Temperatura', 'V': 'Pressão do Ar','RH': 'Umidade do Ar','AP': 'Pressão ATM','PE': 'Energia Produzida',})\n",
        "df.head()"
      ]
    },
    {
      "cell_type": "code",
      "execution_count": null,
      "metadata": {
        "colab": {
          "base_uri": "https://localhost:8080/",
          "height": 241
        },
        "id": "ZF8sjYjcNTwh",
        "outputId": "c4351e5a-3e17-4b12-dbe2-fc370009839f"
      },
      "outputs": [],
      "source": [
        "# Análisando a correlação das demais colunas com a 'Energia Produzida'\n",
        "corr = df.corr()\n",
        "corr['Energia Produzida']"
      ]
    },
    {
      "cell_type": "code",
      "execution_count": null,
      "metadata": {
        "colab": {
          "base_uri": "https://localhost:8080/",
          "height": 529
        },
        "id": "SbV-o6LFOrUH",
        "outputId": "69acd8c2-14f3-40e3-a13a-32d9c96b8e4a"
      },
      "outputs": [],
      "source": [
        "# Mostrando a distribuição da energia produzida no df\n",
        "sns.displot(df['Energia Produzida'], kde=True, color='green')\n",
        "plt.title('Distribuição da Energia Produzida')\n",
        "plt.show()"
      ]
    },
    {
      "cell_type": "code",
      "execution_count": null,
      "metadata": {
        "colab": {
          "base_uri": "https://localhost:8080/",
          "height": 285
        },
        "id": "N_jawYaVQrcZ",
        "outputId": "02d9adb3-1657-4071-ad3d-2ac6c8dbf3f0"
      },
      "outputs": [],
      "source": [
        "# Mostrando características de cada coluna que talvez possam explicar a energia produzida\n",
        "sns.pairplot(df, y_vars='Energia Produzida', x_vars=['Temperatura','Pressão do Ar','Pressão ATM','Umidade do Ar'] )"
      ]
    },
    {
      "cell_type": "markdown",
      "metadata": {
        "id": "ko-hmkBmdU-R"
      },
      "source": [
        "# Treinando os Modelos"
      ]
    },
    {
      "cell_type": "code",
      "execution_count": null,
      "metadata": {
        "id": "vDXQmOYaPLOZ"
      },
      "outputs": [],
      "source": [
        "# Definindo X e y e aplicando o split\n",
        "y = df['Energia Produzida']\n",
        "X = df.drop(columns='Energia Produzida')\n",
        "\n",
        "X_train, X_test, y_train, y_test = train_test_split(X, y, test_size=0.3, random_state=250)"
      ]
    },
    {
      "cell_type": "code",
      "execution_count": null,
      "metadata": {
        "id": "GkrMEZmiP0d4"
      },
      "outputs": [],
      "source": [
        "# Dataframe de treino pra usar na fórmula\n",
        "df_train = pd.DataFrame(data= X_train)\n",
        "df_train['Energia Produzida'] = y_train"
      ]
    },
    {
      "cell_type": "code",
      "execution_count": null,
      "metadata": {
        "colab": {
          "base_uri": "https://localhost:8080/",
          "height": 424
        },
        "id": "_EmkJjGaQY5x",
        "outputId": "06884d33-7636-4cf8-c783-f5c757a84630"
      },
      "outputs": [],
      "source": [
        "# Adicionando uma constante\n",
        "X_train = sm.add_constant(X_train)\n",
        "X_train"
      ]
    },
    {
      "cell_type": "code",
      "execution_count": null,
      "metadata": {
        "colab": {
          "base_uri": "https://localhost:8080/"
        },
        "id": "FPbipLU_SHL7",
        "outputId": "79efda71-c767-45d2-ea51-03df1f535461"
      },
      "outputs": [],
      "source": [
        "X_train.columns"
      ]
    },
    {
      "cell_type": "code",
      "execution_count": null,
      "metadata": {
        "id": "uUtbCjMXSBjN"
      },
      "outputs": [],
      "source": [
        "# Criando alguns modelos de regreção para teste \n",
        "\n",
        "# Com todas as colunas\n",
        "modelo_1 = sm.OLS(y_train,\n",
        "                  X_train[['const', 'Temperatura', 'Pressão do Ar', 'Pressão ATM', 'Umidade do Ar']]).fit()\n",
        "# Sem as colunas Temperatura e Pressão do Ar\n",
        "modelo_2 = sm.OLS(y_train,\n",
        "                  X_train[['const', 'Pressão ATM', 'Umidade do Ar']]).fit()\n",
        "# Sem a coluna Temperatura\n",
        "modelo_3 = sm.OLS(y_train,\n",
        "                  X_train[['const', 'Pressão do Ar', 'Pressão ATM', 'Umidade do Ar']]).fit()\n",
        "# Sem a coluna Pressão do Ar\n",
        "modelo_4 = sm.OLS(y_train,\n",
        "                  X_train[['const', 'Temperatura', 'Pressão ATM', 'Umidade do Ar']]).fit()"
      ]
    },
    {
      "cell_type": "code",
      "execution_count": null,
      "metadata": {
        "colab": {
          "base_uri": "https://localhost:8080/"
        },
        "id": "qsz9o6e8S_DK",
        "outputId": "03f84122-4f60-43a5-c830-7226503dee86"
      },
      "outputs": [],
      "source": [
        "print(modelo_1.summary())"
      ]
    },
    {
      "cell_type": "code",
      "execution_count": null,
      "metadata": {
        "colab": {
          "base_uri": "https://localhost:8080/"
        },
        "id": "l0AOP2tFTCvy",
        "outputId": "069a421a-8c45-4d55-f439-ea02f00daa34"
      },
      "outputs": [],
      "source": [
        "print(modelo_2.summary())"
      ]
    },
    {
      "cell_type": "code",
      "execution_count": null,
      "metadata": {
        "colab": {
          "base_uri": "https://localhost:8080/"
        },
        "id": "TKBsVFFBTEcQ",
        "outputId": "4141e861-41f4-4673-ac5c-b32d3ad0f85b"
      },
      "outputs": [],
      "source": [
        "print(modelo_3.summary())"
      ]
    },
    {
      "cell_type": "code",
      "execution_count": null,
      "metadata": {
        "colab": {
          "base_uri": "https://localhost:8080/"
        },
        "id": "9kLlKkmzTGfw",
        "outputId": "279d42cc-1fcc-44ed-818a-b58f8cd16620"
      },
      "outputs": [],
      "source": [
        "print(modelo_4.summary())"
      ]
    },
    {
      "cell_type": "code",
      "execution_count": null,
      "metadata": {
        "colab": {
          "base_uri": "https://localhost:8080/"
        },
        "id": "IY2srRgiTMbS",
        "outputId": "ca9dc01d-f921-470c-8cd8-1ea409d539a4"
      },
      "outputs": [],
      "source": [
        "# R2 de cada modelo\n",
        "print(\"R²\")\n",
        "print(\"Modelo 1: \", modelo_1.rsquared)\n",
        "print(\"Modelo 2: \", modelo_2.rsquared)\n",
        "print(\"Modelo 3: \", modelo_3.rsquared)\n",
        "print(\"Modelo 4: \", modelo_4.rsquared)"
      ]
    },
    {
      "cell_type": "code",
      "execution_count": null,
      "metadata": {
        "colab": {
          "base_uri": "https://localhost:8080/"
        },
        "id": "92TwmTIuTWTe",
        "outputId": "44ebb473-b87f-4c04-fcf5-4f3873b77b0b"
      },
      "outputs": [],
      "source": [
        "#Quantos parametros estão em cada modelo\n",
        "print(len(modelo_1.params))\n",
        "print(len(modelo_2.params))\n",
        "print(len(modelo_3.params))\n",
        "print(len(modelo_4.params))"
      ]
    },
    {
      "cell_type": "markdown",
      "metadata": {
        "id": "g9VKo4HpeOjr"
      },
      "source": [
        "# Testando o Modelo Inicialmente Escolhido"
      ]
    },
    {
      "cell_type": "markdown",
      "metadata": {
        "id": "LvKVwgYpdDKc"
      },
      "source": [
        "*   Eu escolhi o modelo 1 até esse momento, pois ele possui mais parametros e R2 foi o maior.\n",
        "*   Entreteando há um multicolinearidade a ser investigada."
      ]
    },
    {
      "cell_type": "code",
      "execution_count": null,
      "metadata": {
        "colab": {
          "base_uri": "https://localhost:8080/",
          "height": 241
        },
        "id": "fsVM-WVUTita",
        "outputId": "11434306-b607-4d53-a7a6-051d61332a9a"
      },
      "outputs": [],
      "source": [
        "modelo_1.params"
      ]
    },
    {
      "cell_type": "code",
      "execution_count": null,
      "metadata": {
        "id": "-yQ2TJ1ET9bB"
      },
      "outputs": [],
      "source": [
        "# Adicionando uma constante em X_test\n",
        "X_test = sm.add_constant(X_test)"
      ]
    },
    {
      "cell_type": "code",
      "execution_count": null,
      "metadata": {
        "id": "eIGtDG6zUWXq"
      },
      "outputs": [],
      "source": [
        "# Prevendo com o modelo 1\n",
        "predict_1 = modelo_1.predict(X_test[['const', 'Temperatura', 'Pressão do Ar', 'Pressão ATM', 'Umidade do Ar']])"
      ]
    },
    {
      "cell_type": "code",
      "execution_count": null,
      "metadata": {
        "colab": {
          "base_uri": "https://localhost:8080/"
        },
        "id": "QFUKL_qUUgt2",
        "outputId": "f922fba4-7ac5-42ca-a449-226b3fff3182"
      },
      "outputs": [],
      "source": [
        "# Qual o r² da previsão?\n",
        "modelo_1.rsquared"
      ]
    },
    {
      "cell_type": "code",
      "execution_count": null,
      "metadata": {
        "colab": {
          "base_uri": "https://localhost:8080/"
        },
        "id": "UzGKKz30UmH4",
        "outputId": "36ba984d-a579-4a74-b6bf-7316c6e93bb1"
      },
      "outputs": [],
      "source": [
        "# Qual o R² do treino?\n",
        "print(\"R²: \", r2_score(y_test, predict_1))"
      ]
    },
    {
      "cell_type": "code",
      "execution_count": null,
      "metadata": {
        "id": "dLq9fNOuUo9m"
      },
      "outputs": [],
      "source": [
        "# Dados que quero obter previsão\n",
        "novo_dado = pd.DataFrame({ 'const': [1],\n",
        "                             'Temperatura': [18.5],\n",
        "                              'Pressão do Ar': [32.1],\n",
        "                              'Pressão ATM': [1008.20],\n",
        "                              'Umidade do Ar':[70.99]\n",
        "})"
      ]
    },
    {
      "cell_type": "code",
      "execution_count": null,
      "metadata": {
        "colab": {
          "base_uri": "https://localhost:8080/"
        },
        "id": "JHLueF34VY-V",
        "outputId": "4d99100c-b95a-49e0-c0ce-62d7fe4ab54a"
      },
      "outputs": [],
      "source": [
        "modelo_1.predict(novo_dado)[0]"
      ]
    },
    {
      "cell_type": "markdown",
      "metadata": {
        "id": "3DnJE3Ifcgwa"
      },
      "source": [
        "# Investigado a Multicolimulticolinearidade e Escolhendo o Modelo Final a ser Usado\n",
        "\n"
      ]
    },
    {
      "cell_type": "code",
      "execution_count": null,
      "metadata": {
        "id": "vjSK8mO3VvbN"
      },
      "outputs": [],
      "source": [
        "explicativas_1 = ['const', 'Temperatura', 'Pressão do Ar', 'Pressão ATM', 'Umidade do Ar']\n",
        "\n",
        "explicativas_2 = ['const', 'Pressão ATM', 'Umidade do Ar']\n",
        "\n",
        "explicativas_3 = ['const', 'Pressão do Ar', 'Pressão ATM', 'Umidade do Ar']\n",
        "\n",
        "explicativas_4 = ['const', 'Temperatura', 'Pressão ATM', 'Umidade do Ar']"
      ]
    },
    {
      "cell_type": "code",
      "execution_count": null,
      "metadata": {
        "colab": {
          "base_uri": "https://localhost:8080/",
          "height": 206
        },
        "id": "PV85BqoDW50l",
        "outputId": "0c4ec85e-4a89-4b09-c09c-d98091ca74ce"
      },
      "outputs": [],
      "source": [
        "# VIF 1\n",
        "vif_1 = pd.DataFrame()\n",
        "vif_1['variavel'] = explicativas_1\n",
        "\n",
        "vif_1[\"vif\"] = [ variance_inflation_factor(X_train[explicativas_1], i ) for i in range(len(explicativas_1))]\n",
        "\n",
        "vif_1"
      ]
    },
    {
      "cell_type": "code",
      "execution_count": null,
      "metadata": {
        "colab": {
          "base_uri": "https://localhost:8080/",
          "height": 143
        },
        "id": "GKpa1RyiXJJK",
        "outputId": "b068f3ef-8b0e-4e89-b2c5-b003fe4a910d"
      },
      "outputs": [],
      "source": [
        "# VIF 2\n",
        "vif_2 = pd.DataFrame()\n",
        "vif_2['variavel'] = explicativas_2\n",
        "\n",
        "vif_2[\"vif\"] = [ variance_inflation_factor(X_train[explicativas_2], i ) for i in range(len(explicativas_2))]\n",
        "\n",
        "vif_2"
      ]
    },
    {
      "cell_type": "code",
      "execution_count": null,
      "metadata": {
        "colab": {
          "base_uri": "https://localhost:8080/",
          "height": 175
        },
        "id": "pMtkPVCeXRvy",
        "outputId": "74da34bc-9014-40e4-a850-68be2140e834"
      },
      "outputs": [],
      "source": [
        "# VIF 3\n",
        "vif_3 = pd.DataFrame()\n",
        "vif_3['variavel'] = explicativas_3\n",
        "\n",
        "vif_3[\"vif\"] = [ variance_inflation_factor(X_train[explicativas_3], i ) for i in range(len(explicativas_3))]\n",
        "\n",
        "vif_3"
      ]
    },
    {
      "cell_type": "code",
      "execution_count": null,
      "metadata": {
        "colab": {
          "base_uri": "https://localhost:8080/",
          "height": 175
        },
        "id": "ZnhkAnFFXhe-",
        "outputId": "359e015f-9b66-4756-f4c8-ebf694da6624"
      },
      "outputs": [],
      "source": [
        "# VIF 4\n",
        "vif_4 = pd.DataFrame()\n",
        "vif_4['variavel'] = explicativas_4\n",
        "\n",
        "vif_4[\"vif\"] = [ variance_inflation_factor(X_train[explicativas_4], i ) for i in range(len(explicativas_4))]\n",
        "\n",
        "vif_4"
      ]
    },
    {
      "cell_type": "markdown",
      "metadata": {
        "id": "dH4NVgsbcvaE"
      },
      "source": [
        "*   Considerando a Multicolimulticolinearidade apresentada modelo 1, o melhor modelo a se usar seria o 2 ou 3 ou 4.\n",
        "*   Devido quantidade de parametros do modelo 3 ser maior que os outros, eu escolho ele como melhor opção.\n"
      ]
    },
    {
      "cell_type": "code",
      "execution_count": null,
      "metadata": {
        "id": "xPMH-EL1YgVf"
      },
      "outputs": [],
      "source": [
        "# Treinando o modelo 3\n",
        "\n",
        "predict_3 = modelo_3.predict(X_test[['const', 'Pressão do Ar', 'Pressão ATM', 'Umidade do Ar']])"
      ]
    },
    {
      "cell_type": "code",
      "execution_count": null,
      "metadata": {},
      "outputs": [],
      "source": [
        "# Qual o r² da previsão?\n",
        "modelo_3.rsquared"
      ]
    },
    {
      "cell_type": "code",
      "execution_count": null,
      "metadata": {},
      "outputs": [],
      "source": [
        "# Qual o R² do treino?\n",
        "print(\"R²: \", r2_score(y_test, predict_3))"
      ]
    },
    {
      "cell_type": "code",
      "execution_count": null,
      "metadata": {
        "id": "gQX42MHUaJkE"
      },
      "outputs": [],
      "source": [
        "# Dados que quero obter previsão sem a temperatura para o modelo 3\n",
        "novo_dado_3 = pd.DataFrame({ 'const': [1],\n",
        "                              'Pressão do Ar': [32.1],\n",
        "                              'Pressão ATM': [1008.20],\n",
        "                              'Umidade do Ar':[70.99]\n",
        "})"
      ]
    },
    {
      "cell_type": "code",
      "execution_count": null,
      "metadata": {
        "colab": {
          "base_uri": "https://localhost:8080/"
        },
        "id": "ywzgtbrKZe5S",
        "outputId": "3684bd94-223e-4496-966f-b0f494ac2ae5"
      },
      "outputs": [],
      "source": [
        "#Comparando os 2 modelos treinados\n",
        "print(\"Valores de Energia Obtida no Modelo Inicial 1:\", modelo_1.predict(novo_dado)[0])\n",
        "print(\"Valores de Energia Obtida no Modelo Final 3:\", modelo_3.predict(novo_dado_3)[0])"
      ]
    },
    {
      "cell_type": "markdown",
      "metadata": {
        "id": "X1yjtGCua9mh"
      },
      "source": [
        "# Análise dos Resíduos do Modelo Final"
      ]
    },
    {
      "cell_type": "code",
      "execution_count": null,
      "metadata": {
        "id": "MrCH3jzJam0i"
      },
      "outputs": [],
      "source": [
        "# Prevendo os valores do treino X_traind do modelo 3\n",
        "y_previsto_train = modelo_3.predict(X_train[explicativas_3])"
      ]
    },
    {
      "cell_type": "code",
      "execution_count": null,
      "metadata": {
        "colab": {
          "base_uri": "https://localhost:8080/",
          "height": 559
        },
        "id": "jHrBdp37bJGE",
        "outputId": "92b03f94-8534-467b-f3f2-31c33835f300"
      },
      "outputs": [],
      "source": [
        "# Fazendo um scatter plot entre y_previsto e y_train\n",
        "\n",
        "fig = px.scatter(x= y_previsto_train    , y= y_train,\n",
        "                 title='Previsão X Real',\n",
        "                 labels={'x':'Energia Prevista','y':'Energia real'})\n",
        "fig.show()\n",
        "print(\"Como visto no gráfico, o modelo está bem próximo da realidade\")"
      ]
    }
  ],
  "metadata": {
    "colab": {
      "collapsed_sections": [
        "ao1t2nsdeVBF",
        "ko-hmkBmdU-R",
        "g9VKo4HpeOjr",
        "3DnJE3Ifcgwa",
        "X1yjtGCua9mh"
      ],
      "provenance": []
    },
    "kernelspec": {
      "display_name": "Python 3",
      "name": "python3"
    },
    "language_info": {
      "codemirror_mode": {
        "name": "ipython",
        "version": 3
      },
      "file_extension": ".py",
      "mimetype": "text/x-python",
      "name": "python",
      "nbconvert_exporter": "python",
      "pygments_lexer": "ipython3",
      "version": "3.12.1"
    }
  },
  "nbformat": 4,
  "nbformat_minor": 0
}
