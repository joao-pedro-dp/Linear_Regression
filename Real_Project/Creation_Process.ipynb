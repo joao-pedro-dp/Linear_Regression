{
  "cells": [
    {
      "cell_type": "markdown",
      "metadata": {
        "id": "ao1t2nsdeVBF"
      },
      "source": [
        "# Importando as Bibliotecas e Examinando os Df"
      ]
    },
    {
      "cell_type": "code",
      "execution_count": 1,
      "metadata": {
        "id": "MLvXYuptLj2J"
      },
      "outputs": [],
      "source": [
        "import pandas as pd\n",
        "import matplotlib.pyplot as plt\n",
        "import seaborn as sns\n",
        "import plotly.express as px\n",
        "from sklearn.model_selection import train_test_split\n",
        "from sklearn.metrics import r2_score\n",
        "import statsmodels.api as sm\n",
        "from statsmodels.stats.outliers_influence import variance_inflation_factor"
      ]
    },
    {
      "cell_type": "code",
      "execution_count": 2,
      "metadata": {
        "colab": {
          "base_uri": "https://localhost:8080/"
        },
        "id": "rTdtwjt8MFyU",
        "outputId": "f21d0e6c-ea1c-44a9-99d3-ec44ffb6b8c1"
      },
      "outputs": [
        {
          "name": "stdout",
          "output_type": "stream",
          "text": [
            "      AT      V       AP     RH      PE\n",
            "0  14.96  41.76  1024.07  73.17  463.26\n",
            "1  25.18  62.96  1020.04  59.08  444.37\n",
            "2   5.11  39.40  1012.16  92.14  488.56\n",
            "3  20.86  57.32  1010.24  76.64  446.48\n",
            "4  10.82  37.50  1009.23  96.62  473.90\n",
            "\n",
            "<class 'pandas.core.frame.DataFrame'>\n",
            "RangeIndex: 9568 entries, 0 to 9567\n",
            "Data columns (total 5 columns):\n",
            " #   Column  Non-Null Count  Dtype  \n",
            "---  ------  --------------  -----  \n",
            " 0   AT      9568 non-null   float64\n",
            " 1   V       9568 non-null   float64\n",
            " 2   AP      9568 non-null   float64\n",
            " 3   RH      9568 non-null   float64\n",
            " 4   PE      9568 non-null   float64\n",
            "dtypes: float64(5)\n",
            "memory usage: 373.9 KB\n",
            "None\n"
          ]
        }
      ],
      "source": [
        "#Importando e visualizando meu dataframe\n",
        "df = pd.read_csv('Power_Plant.csv')\n",
        "\n",
        "print(df.head(), end=\"\\n\\n\")\n",
        "print(df.info())\n",
        "# PE = Y"
      ]
    },
    {
      "cell_type": "code",
      "execution_count": 3,
      "metadata": {
        "colab": {
          "base_uri": "https://localhost:8080/",
          "height": 206
        },
        "id": "2cnDJ0MlN1QO",
        "outputId": "57e43377-2acd-4f14-f0a6-20b7f9e3d625"
      },
      "outputs": [
        {
          "data": {
            "text/html": [
              "<div>\n",
              "<style scoped>\n",
              "    .dataframe tbody tr th:only-of-type {\n",
              "        vertical-align: middle;\n",
              "    }\n",
              "\n",
              "    .dataframe tbody tr th {\n",
              "        vertical-align: top;\n",
              "    }\n",
              "\n",
              "    .dataframe thead th {\n",
              "        text-align: right;\n",
              "    }\n",
              "</style>\n",
              "<table border=\"1\" class=\"dataframe\">\n",
              "  <thead>\n",
              "    <tr style=\"text-align: right;\">\n",
              "      <th></th>\n",
              "      <th>Temperatura</th>\n",
              "      <th>Pressão do Ar</th>\n",
              "      <th>Pressão ATM</th>\n",
              "      <th>Umidade do Ar</th>\n",
              "      <th>Energia Produzida</th>\n",
              "    </tr>\n",
              "  </thead>\n",
              "  <tbody>\n",
              "    <tr>\n",
              "      <th>0</th>\n",
              "      <td>14.96</td>\n",
              "      <td>41.76</td>\n",
              "      <td>1024.07</td>\n",
              "      <td>73.17</td>\n",
              "      <td>463.26</td>\n",
              "    </tr>\n",
              "    <tr>\n",
              "      <th>1</th>\n",
              "      <td>25.18</td>\n",
              "      <td>62.96</td>\n",
              "      <td>1020.04</td>\n",
              "      <td>59.08</td>\n",
              "      <td>444.37</td>\n",
              "    </tr>\n",
              "    <tr>\n",
              "      <th>2</th>\n",
              "      <td>5.11</td>\n",
              "      <td>39.40</td>\n",
              "      <td>1012.16</td>\n",
              "      <td>92.14</td>\n",
              "      <td>488.56</td>\n",
              "    </tr>\n",
              "    <tr>\n",
              "      <th>3</th>\n",
              "      <td>20.86</td>\n",
              "      <td>57.32</td>\n",
              "      <td>1010.24</td>\n",
              "      <td>76.64</td>\n",
              "      <td>446.48</td>\n",
              "    </tr>\n",
              "    <tr>\n",
              "      <th>4</th>\n",
              "      <td>10.82</td>\n",
              "      <td>37.50</td>\n",
              "      <td>1009.23</td>\n",
              "      <td>96.62</td>\n",
              "      <td>473.90</td>\n",
              "    </tr>\n",
              "  </tbody>\n",
              "</table>\n",
              "</div>"
            ],
            "text/plain": [
              "   Temperatura  Pressão do Ar  Pressão ATM  Umidade do Ar  Energia Produzida\n",
              "0        14.96          41.76      1024.07          73.17             463.26\n",
              "1        25.18          62.96      1020.04          59.08             444.37\n",
              "2         5.11          39.40      1012.16          92.14             488.56\n",
              "3        20.86          57.32      1010.24          76.64             446.48\n",
              "4        10.82          37.50      1009.23          96.62             473.90"
            ]
          },
          "execution_count": 3,
          "metadata": {},
          "output_type": "execute_result"
        }
      ],
      "source": [
        "# Renomeando as colunas para melhor entendimento dos dados\n",
        "df = df.rename(columns={'AT': 'Temperatura', 'V': 'Pressão do Ar','RH': 'Umidade do Ar','AP': 'Pressão ATM','PE': 'Energia Produzida',})\n",
        "df.head()"
      ]
    },
    {
      "cell_type": "code",
      "execution_count": 4,
      "metadata": {
        "colab": {
          "base_uri": "https://localhost:8080/",
          "height": 241
        },
        "id": "ZF8sjYjcNTwh",
        "outputId": "c4351e5a-3e17-4b12-dbe2-fc370009839f"
      },
      "outputs": [
        {
          "data": {
            "text/plain": [
              "Temperatura         -0.948128\n",
              "Pressão do Ar       -0.869780\n",
              "Pressão ATM          0.518429\n",
              "Umidade do Ar        0.389794\n",
              "Energia Produzida    1.000000\n",
              "Name: Energia Produzida, dtype: float64"
            ]
          },
          "execution_count": 4,
          "metadata": {},
          "output_type": "execute_result"
        }
      ],
      "source": [
        "# Análisando a correlação das demais colunas com a 'Energia Produzida'\n",
        "corr = df.corr()\n",
        "corr['Energia Produzida']"
      ]
    },
    {
      "cell_type": "code",
      "execution_count": 5,
      "metadata": {
        "colab": {
          "base_uri": "https://localhost:8080/",
          "height": 529
        },
        "id": "SbV-o6LFOrUH",
        "outputId": "69acd8c2-14f3-40e3-a13a-32d9c96b8e4a"
      },
      "outputs": [
        {
          "data": {
            "image/png": "[encoded data removed]",
            "text/plain": [
              "<Figure size 500x500 with 1 Axes>"
            ]
          },
          "metadata": {},
          "output_type": "display_data"
        }
      ],
      "source": [
        "# Mostrando a distribuição da energia produzida no df\n",
        "sns.displot(df['Energia Produzida'], kde=True, color='green')\n",
        "plt.title('Distribuição da Energia Produzida')\n",
        "plt.show()"
      ]
    },
    {
      "cell_type": "code",
      "execution_count": 6,
      "metadata": {
        "colab": {
          "base_uri": "https://localhost:8080/",
          "height": 285
        },
        "id": "N_jawYaVQrcZ",
        "outputId": "02d9adb3-1657-4071-ad3d-2ac6c8dbf3f0"
      },
      "outputs": [
        {
          "data": {
            "text/plain": [
              "<seaborn.axisgrid.PairGrid at 0x1c23d419a30>"
            ]
          },
          "execution_count": 6,
          "metadata": {},
          "output_type": "execute_result"
        },
        {
          "data": {
            "image/png": "[encoded data removed]",
            "text/plain": [
              "<Figure size 1000x250 with 4 Axes>"
            ]
          },
          "metadata": {},
          "output_type": "display_data"
        }
      ],
      "source": [
        "# Mostrando características de cada coluna que talvez possam explicar a energia produzida\n",
        "sns.pairplot(df, y_vars='Energia Produzida', x_vars=['Temperatura','Pressão do Ar','Pressão ATM','Umidade do Ar'] )"
      ]
    },
    {
      "cell_type": "markdown",
      "metadata": {
        "id": "ko-hmkBmdU-R"
      },
      "source": [
        "# Treinando os Modelos"
      ]
    },
    {
      "cell_type": "code",
      "execution_count": 7,
      "metadata": {
        "id": "vDXQmOYaPLOZ"
      },
      "outputs": [],
      "source": [
        "# Definindo X e y e aplicando o split\n",
        "y = df['Energia Produzida']\n",
        "X = df.drop(columns='Energia Produzida')\n",
        "\n",
        "X_train, X_test, y_train, y_test = train_test_split(X, y, test_size=0.3, random_state=250)"
      ]
    },
    {
      "cell_type": "code",
      "execution_count": 8,
      "metadata": {
        "id": "GkrMEZmiP0d4"
      },
      "outputs": [],
      "source": [
        "# Dataframe de treino pra usar na fórmula\n",
        "df_train = pd.DataFrame(data= X_train)\n",
        "df_train['Energia Produzida'] = y_train"
      ]
    },
    {
      "cell_type": "code",
      "execution_count": 9,
      "metadata": {
        "colab": {
          "base_uri": "https://localhost:8080/",
          "height": 424
        },
        "id": "_EmkJjGaQY5x",
        "outputId": "06884d33-7636-4cf8-c783-f5c757a84630"
      },
      "outputs": [
        {
          "data": {
            "text/html": [
              "<div>\n",
              "<style scoped>\n",
              "    .dataframe tbody tr th:only-of-type {\n",
              "        vertical-align: middle;\n",
              "    }\n",
              "\n",
              "    .dataframe tbody tr th {\n",
              "        vertical-align: top;\n",
              "    }\n",
              "\n",
              "    .dataframe thead th {\n",
              "        text-align: right;\n",
              "    }\n",
              "</style>\n",
              "<table border=\"1\" class=\"dataframe\">\n",
              "  <thead>\n",
              "    <tr style=\"text-align: right;\">\n",
              "      <th></th>\n",
              "      <th>const</th>\n",
              "      <th>Temperatura</th>\n",
              "      <th>Pressão do Ar</th>\n",
              "      <th>Pressão ATM</th>\n",
              "      <th>Umidade do Ar</th>\n",
              "    </tr>\n",
              "  </thead>\n",
              "  <tbody>\n",
              "    <tr>\n",
              "      <th>1211</th>\n",
              "      <td>1.0</td>\n",
              "      <td>11.02</td>\n",
              "      <td>40.71</td>\n",
              "      <td>1020.30</td>\n",
              "      <td>86.64</td>\n",
              "    </tr>\n",
              "    <tr>\n",
              "      <th>3199</th>\n",
              "      <td>1.0</td>\n",
              "      <td>31.28</td>\n",
              "      <td>75.08</td>\n",
              "      <td>1005.39</td>\n",
              "      <td>49.53</td>\n",
              "    </tr>\n",
              "    <tr>\n",
              "      <th>4202</th>\n",
              "      <td>1.0</td>\n",
              "      <td>8.55</td>\n",
              "      <td>36.25</td>\n",
              "      <td>1029.54</td>\n",
              "      <td>85.23</td>\n",
              "    </tr>\n",
              "    <tr>\n",
              "      <th>169</th>\n",
              "      <td>1.0</td>\n",
              "      <td>6.57</td>\n",
              "      <td>43.65</td>\n",
              "      <td>1018.24</td>\n",
              "      <td>74.47</td>\n",
              "    </tr>\n",
              "    <tr>\n",
              "      <th>8522</th>\n",
              "      <td>1.0</td>\n",
              "      <td>28.07</td>\n",
              "      <td>61.47</td>\n",
              "      <td>1008.68</td>\n",
              "      <td>64.83</td>\n",
              "    </tr>\n",
              "    <tr>\n",
              "      <th>...</th>\n",
              "      <td>...</td>\n",
              "      <td>...</td>\n",
              "      <td>...</td>\n",
              "      <td>...</td>\n",
              "      <td>...</td>\n",
              "    </tr>\n",
              "    <tr>\n",
              "      <th>7738</th>\n",
              "      <td>1.0</td>\n",
              "      <td>26.63</td>\n",
              "      <td>61.47</td>\n",
              "      <td>1008.18</td>\n",
              "      <td>69.00</td>\n",
              "    </tr>\n",
              "    <tr>\n",
              "      <th>2013</th>\n",
              "      <td>1.0</td>\n",
              "      <td>27.92</td>\n",
              "      <td>69.23</td>\n",
              "      <td>1013.21</td>\n",
              "      <td>44.43</td>\n",
              "    </tr>\n",
              "    <tr>\n",
              "      <th>7159</th>\n",
              "      <td>1.0</td>\n",
              "      <td>25.89</td>\n",
              "      <td>74.22</td>\n",
              "      <td>1007.43</td>\n",
              "      <td>81.55</td>\n",
              "    </tr>\n",
              "    <tr>\n",
              "      <th>2266</th>\n",
              "      <td>1.0</td>\n",
              "      <td>30.61</td>\n",
              "      <td>67.69</td>\n",
              "      <td>1004.97</td>\n",
              "      <td>47.46</td>\n",
              "    </tr>\n",
              "    <tr>\n",
              "      <th>1902</th>\n",
              "      <td>1.0</td>\n",
              "      <td>30.74</td>\n",
              "      <td>71.77</td>\n",
              "      <td>1006.24</td>\n",
              "      <td>53.38</td>\n",
              "    </tr>\n",
              "  </tbody>\n",
              "</table>\n",
              "<p>6697 rows × 5 columns</p>\n",
              "</div>"
            ],
            "text/plain": [
              "      const  Temperatura  Pressão do Ar  Pressão ATM  Umidade do Ar\n",
              "1211    1.0        11.02          40.71      1020.30          86.64\n",
              "3199    1.0        31.28          75.08      1005.39          49.53\n",
              "4202    1.0         8.55          36.25      1029.54          85.23\n",
              "169     1.0         6.57          43.65      1018.24          74.47\n",
              "8522    1.0        28.07          61.47      1008.68          64.83\n",
              "...     ...          ...            ...          ...            ...\n",
              "7738    1.0        26.63          61.47      1008.18          69.00\n",
              "2013    1.0        27.92          69.23      1013.21          44.43\n",
              "7159    1.0        25.89          74.22      1007.43          81.55\n",
              "2266    1.0        30.61          67.69      1004.97          47.46\n",
              "1902    1.0        30.74          71.77      1006.24          53.38\n",
              "\n",
              "[6697 rows x 5 columns]"
            ]
          },
          "execution_count": 9,
          "metadata": {},
          "output_type": "execute_result"
        }
      ],
      "source": [
        "# Adicionando uma constante\n",
        "X_train = sm.add_constant(X_train)\n",
        "X_train"
      ]
    },
    {
      "cell_type": "code",
      "execution_count": 10,
      "metadata": {
        "colab": {
          "base_uri": "https://localhost:8080/"
        },
        "id": "FPbipLU_SHL7",
        "outputId": "79efda71-c767-45d2-ea51-03df1f535461"
      },
      "outputs": [
        {
          "data": {
            "text/plain": [
              "Index(['const', 'Temperatura', 'Pressão do Ar', 'Pressão ATM',\n",
              "       'Umidade do Ar'],\n",
              "      dtype='object')"
            ]
          },
          "execution_count": 10,
          "metadata": {},
          "output_type": "execute_result"
        }
      ],
      "source": [
        "X_train.columns"
      ]
    },
    {
      "cell_type": "code",
      "execution_count": 11,
      "metadata": {
        "id": "uUtbCjMXSBjN"
      },
      "outputs": [],
      "source": [
        "# Criando alguns modelos de regreção para teste \n",
        "\n",
        "# Com todas as colunas\n",
        "modelo_1 = sm.OLS(y_train,\n",
        "                  X_train[['const', 'Temperatura', 'Pressão do Ar', 'Pressão ATM', 'Umidade do Ar']]).fit()\n",
        "# Sem as colunas Temperatura e Pressão do Ar\n",
        "modelo_2 = sm.OLS(y_train,\n",
        "                  X_train[['const', 'Pressão ATM', 'Umidade do Ar']]).fit()\n",
        "# Sem a coluna Temperatura\n",
        "modelo_3 = sm.OLS(y_train,\n",
        "                  X_train[['const', 'Pressão do Ar', 'Pressão ATM', 'Umidade do Ar']]).fit()\n",
        "# Sem a coluna Pressão do Ar\n",
        "modelo_4 = sm.OLS(y_train,\n",
        "                  X_train[['const', 'Temperatura', 'Pressão ATM', 'Umidade do Ar']]).fit()"
      ]
    },
    {
      "cell_type": "code",
      "execution_count": 12,
      "metadata": {
        "colab": {
          "base_uri": "https://localhost:8080/"
        },
        "id": "qsz9o6e8S_DK",
        "outputId": "03f84122-4f60-43a5-c830-7226503dee86"
      },
      "outputs": [
        {
          "name": "stdout",
          "output_type": "stream",
          "text": [
            "                            OLS Regression Results                            \n",
            "==============================================================================\n",
            "Dep. Variable:      Energia Produzida   R-squared:                       0.932\n",
            "Model:                            OLS   Adj. R-squared:                  0.932\n",
            "Method:                 Least Squares   F-statistic:                 2.297e+04\n",
            "Date:                Sun, 27 Apr 2025   Prob (F-statistic):               0.00\n",
            "Time:                        14:45:43   Log-Likelihood:                -19538.\n",
            "No. Observations:                6697   AIC:                         3.909e+04\n",
            "Df Residuals:                    6692   BIC:                         3.912e+04\n",
            "Df Model:                           4                                         \n",
            "Covariance Type:            nonrobust                                         \n",
            "=================================================================================\n",
            "                    coef    std err          t      P>|t|      [0.025      0.975]\n",
            "---------------------------------------------------------------------------------\n",
            "const           460.5261     11.389     40.436      0.000     438.200     482.852\n",
            "Temperatura      -1.9978      0.018   -111.272      0.000      -2.033      -1.963\n",
            "Pressão do Ar    -0.2295      0.009    -26.803      0.000      -0.246      -0.213\n",
            "Pressão ATM       0.0568      0.011      5.139      0.000       0.035       0.078\n",
            "Umidade do Ar    -0.1628      0.005    -33.188      0.000      -0.172      -0.153\n",
            "==============================================================================\n",
            "Omnibus:                      168.948   Durbin-Watson:                   2.001\n",
            "Prob(Omnibus):                  0.000   Jarque-Bera (JB):              355.428\n",
            "Skew:                          -0.136   Prob(JB):                     6.61e-78\n",
            "Kurtosis:                       4.095   Cond. No.                     2.12e+05\n",
            "==============================================================================\n",
            "\n",
            "Notes:\n",
            "[1] Standard Errors assume that the covariance matrix of the errors is correctly specified.\n",
            "[2] The condition number is large, 2.12e+05. This might indicate that there are\n",
            "strong multicollinearity or other numerical problems.\n"
          ]
        }
      ],
      "source": [
        "print(modelo_1.summary())"
      ]
    },
    {
      "cell_type": "code",
      "execution_count": 13,
      "metadata": {
        "colab": {
          "base_uri": "https://localhost:8080/"
        },
        "id": "l0AOP2tFTCvy",
        "outputId": "069a421a-8c45-4d55-f439-ea02f00daa34"
      },
      "outputs": [
        {
          "name": "stdout",
          "output_type": "stream",
          "text": [
            "                            OLS Regression Results                            \n",
            "==============================================================================\n",
            "Dep. Variable:      Energia Produzida   R-squared:                       0.381\n",
            "Model:                            OLS   Adj. R-squared:                  0.380\n",
            "Method:                 Least Squares   F-statistic:                     2057.\n",
            "Date:                Sun, 27 Apr 2025   Prob (F-statistic):               0.00\n",
            "Time:                        14:45:43   Log-Likelihood:                -26941.\n",
            "No. Observations:                6697   AIC:                         5.389e+04\n",
            "Df Residuals:                    6694   BIC:                         5.391e+04\n",
            "Df Model:                           2                                         \n",
            "Covariance Type:            nonrobust                                         \n",
            "=================================================================================\n",
            "                    coef    std err          t      P>|t|      [0.025      0.975]\n",
            "---------------------------------------------------------------------------------\n",
            "const          -980.4404     28.177    -34.796      0.000   -1035.677    -925.204\n",
            "Pressão ATM       1.3868      0.028     49.761      0.000       1.332       1.441\n",
            "Umidade do Ar     0.4051      0.011     35.773      0.000       0.383       0.427\n",
            "==============================================================================\n",
            "Omnibus:                      279.769   Durbin-Watson:                   1.966\n",
            "Prob(Omnibus):                  0.000   Jarque-Bera (JB):              306.675\n",
            "Skew:                           0.511   Prob(JB):                     2.55e-67\n",
            "Kurtosis:                       2.766   Cond. No.                     1.73e+05\n",
            "==============================================================================\n",
            "\n",
            "Notes:\n",
            "[1] Standard Errors assume that the covariance matrix of the errors is correctly specified.\n",
            "[2] The condition number is large, 1.73e+05. This might indicate that there are\n",
            "strong multicollinearity or other numerical problems.\n"
          ]
        }
      ],
      "source": [
        "print(modelo_2.summary())"
      ]
    },
    {
      "cell_type": "code",
      "execution_count": 14,
      "metadata": {
        "colab": {
          "base_uri": "https://localhost:8080/"
        },
        "id": "TKBsVFFBTEcQ",
        "outputId": "4141e861-41f4-4673-ac5c-b32d3ad0f85b"
      },
      "outputs": [
        {
          "name": "stdout",
          "output_type": "stream",
          "text": [
            "                            OLS Regression Results                            \n",
            "==============================================================================\n",
            "Dep. Variable:      Energia Produzida   R-squared:                       0.807\n",
            "Model:                            OLS   Adj. R-squared:                  0.806\n",
            "Method:                 Least Squares   F-statistic:                     9299.\n",
            "Date:                Sun, 27 Apr 2025   Prob (F-statistic):               0.00\n",
            "Time:                        14:45:43   Log-Likelihood:                -23045.\n",
            "No. Observations:                6697   AIC:                         4.610e+04\n",
            "Df Residuals:                    6693   BIC:                         4.612e+04\n",
            "Df Model:                           3                                         \n",
            "Covariance Type:            nonrobust                                         \n",
            "=================================================================================\n",
            "                    coef    std err          t      P>|t|      [0.025      0.975]\n",
            "---------------------------------------------------------------------------------\n",
            "const           -74.3684     17.429     -4.267      0.000    -108.536     -40.201\n",
            "Pressão do Ar    -1.0090      0.008   -121.377      0.000      -1.025      -0.993\n",
            "Pressão ATM       0.5641      0.017     33.206      0.000       0.531       0.597\n",
            "Umidade do Ar     0.1637      0.007     24.678      0.000       0.151       0.177\n",
            "==============================================================================\n",
            "Omnibus:                      111.517   Durbin-Watson:                   2.029\n",
            "Prob(Omnibus):                  0.000   Jarque-Bera (JB):              144.891\n",
            "Skew:                           0.227   Prob(JB):                     3.45e-32\n",
            "Kurtosis:                       3.559   Cond. No.                     1.92e+05\n",
            "==============================================================================\n",
            "\n",
            "Notes:\n",
            "[1] Standard Errors assume that the covariance matrix of the errors is correctly specified.\n",
            "[2] The condition number is large, 1.92e+05. This might indicate that there are\n",
            "strong multicollinearity or other numerical problems.\n"
          ]
        }
      ],
      "source": [
        "print(modelo_3.summary())"
      ]
    },
    {
      "cell_type": "code",
      "execution_count": 15,
      "metadata": {
        "colab": {
          "base_uri": "https://localhost:8080/"
        },
        "id": "9kLlKkmzTGfw",
        "outputId": "279d42cc-1fcc-44ed-818a-b58f8cd16620"
      },
      "outputs": [
        {
          "name": "stdout",
          "output_type": "stream",
          "text": [
            "                            OLS Regression Results                            \n",
            "==============================================================================\n",
            "Dep. Variable:      Energia Produzida   R-squared:                       0.925\n",
            "Model:                            OLS   Adj. R-squared:                  0.925\n",
            "Method:                 Least Squares   F-statistic:                 2.745e+04\n",
            "Date:                Sun, 27 Apr 2025   Prob (F-statistic):               0.00\n",
            "Time:                        14:45:43   Log-Likelihood:                -19879.\n",
            "No. Observations:                6697   AIC:                         3.977e+04\n",
            "Df Residuals:                    6693   BIC:                         3.979e+04\n",
            "Df Model:                           3                                         \n",
            "Covariance Type:            nonrobust                                         \n",
            "=================================================================================\n",
            "                    coef    std err          t      P>|t|      [0.025      0.975]\n",
            "---------------------------------------------------------------------------------\n",
            "const           497.7721     11.894     41.850      0.000     474.456     521.088\n",
            "Temperatura      -2.3915      0.011   -220.121      0.000      -2.413      -2.370\n",
            "Pressão ATM       0.0187      0.012      1.622      0.105      -0.004       0.041\n",
            "Umidade do Ar    -0.2090      0.005    -43.246      0.000      -0.218      -0.199\n",
            "==============================================================================\n",
            "Omnibus:                      147.526   Durbin-Watson:                   1.995\n",
            "Prob(Omnibus):                  0.000   Jarque-Bera (JB):              292.505\n",
            "Skew:                          -0.128   Prob(JB):                     3.04e-64\n",
            "Kurtosis:                       3.992   Cond. No.                     2.10e+05\n",
            "==============================================================================\n",
            "\n",
            "Notes:\n",
            "[1] Standard Errors assume that the covariance matrix of the errors is correctly specified.\n",
            "[2] The condition number is large, 2.1e+05. This might indicate that there are\n",
            "strong multicollinearity or other numerical problems.\n"
          ]
        }
      ],
      "source": [
        "print(modelo_4.summary())"
      ]
    },
    {
      "cell_type": "code",
      "execution_count": 16,
      "metadata": {
        "colab": {
          "base_uri": "https://localhost:8080/"
        },
        "id": "IY2srRgiTMbS",
        "outputId": "ca9dc01d-f921-470c-8cd8-1ea409d539a4"
      },
      "outputs": [
        {
          "name": "stdout",
          "output_type": "stream",
          "text": [
            "R²\n",
            "Modelo 1:  0.9321126785496586\n",
            "Modelo 2:  0.38059976765553427\n",
            "Modelo 3:  0.8065077036098535\n",
            "Modelo 4:  0.9248247845925915\n"
          ]
        }
      ],
      "source": [
        "# R2 de cada modelo\n",
        "print(\"R²\")\n",
        "print(\"Modelo 1: \", modelo_1.rsquared)\n",
        "print(\"Modelo 2: \", modelo_2.rsquared)\n",
        "print(\"Modelo 3: \", modelo_3.rsquared)\n",
        "print(\"Modelo 4: \", modelo_4.rsquared)"
      ]
    },
    {
      "cell_type": "code",
      "execution_count": 17,
      "metadata": {
        "colab": {
          "base_uri": "https://localhost:8080/"
        },
        "id": "92TwmTIuTWTe",
        "outputId": "44ebb473-b87f-4c04-fcf5-4f3873b77b0b"
      },
      "outputs": [
        {
          "name": "stdout",
          "output_type": "stream",
          "text": [
            "5\n",
            "3\n",
            "4\n",
            "4\n"
          ]
        }
      ],
      "source": [
        "#Quantos parametros estão em cada modelo\n",
        "print(len(modelo_1.params))\n",
        "print(len(modelo_2.params))\n",
        "print(len(modelo_3.params))\n",
        "print(len(modelo_4.params))"
      ]
    },
    {
      "cell_type": "markdown",
      "metadata": {
        "id": "g9VKo4HpeOjr"
      },
      "source": [
        "# Testando o Modelo Inicialmente Escolhido"
      ]
    },
    {
      "cell_type": "markdown",
      "metadata": {
        "id": "LvKVwgYpdDKc"
      },
      "source": [
        "*   Eu escolhi o modelo 1 até esse momento, pois ele possui mais parametros e R2 foi o maior.\n",
        "*   Entreteando há um multicolinearidade a ser investigada."
      ]
    },
    {
      "cell_type": "code",
      "execution_count": 18,
      "metadata": {
        "colab": {
          "base_uri": "https://localhost:8080/",
          "height": 241
        },
        "id": "fsVM-WVUTita",
        "outputId": "11434306-b607-4d53-a7a6-051d61332a9a"
      },
      "outputs": [
        {
          "data": {
            "text/plain": [
              "const            460.526137\n",
              "Temperatura       -1.997830\n",
              "Pressão do Ar     -0.229501\n",
              "Pressão ATM        0.056782\n",
              "Umidade do Ar     -0.162772\n",
              "dtype: float64"
            ]
          },
          "execution_count": 18,
          "metadata": {},
          "output_type": "execute_result"
        }
      ],
      "source": [
        "modelo_1.params"
      ]
    },
    {
      "cell_type": "code",
      "execution_count": 19,
      "metadata": {
        "id": "-yQ2TJ1ET9bB"
      },
      "outputs": [],
      "source": [
        "# Adicionando uma constante em X_test\n",
        "X_test = sm.add_constant(X_test)"
      ]
    },
    {
      "cell_type": "code",
      "execution_count": 20,
      "metadata": {
        "id": "eIGtDG6zUWXq"
      },
      "outputs": [],
      "source": [
        "# Prevendo com o modelo 1\n",
        "predict_1 = modelo_1.predict(X_test[['const', 'Temperatura', 'Pressão do Ar', 'Pressão ATM', 'Umidade do Ar']])"
      ]
    },
    {
      "cell_type": "code",
      "execution_count": 21,
      "metadata": {
        "colab": {
          "base_uri": "https://localhost:8080/"
        },
        "id": "QFUKL_qUUgt2",
        "outputId": "f922fba4-7ac5-42ca-a449-226b3fff3182"
      },
      "outputs": [
        {
          "data": {
            "text/plain": [
              "0.9321126785496586"
            ]
          },
          "execution_count": 21,
          "metadata": {},
          "output_type": "execute_result"
        }
      ],
      "source": [
        "# Qual o r² da previsão?\n",
        "modelo_1.rsquared"
      ]
    },
    {
      "cell_type": "code",
      "execution_count": 22,
      "metadata": {
        "colab": {
          "base_uri": "https://localhost:8080/"
        },
        "id": "UzGKKz30UmH4",
        "outputId": "36ba984d-a579-4a74-b6bf-7316c6e93bb1"
      },
      "outputs": [
        {
          "name": "stdout",
          "output_type": "stream",
          "text": [
            "R²:  0.9202483049110741\n"
          ]
        }
      ],
      "source": [
        "# Qual o R² do treino?\n",
        "print(\"R²: \", r2_score(y_test, predict_1))"
      ]
    },
    {
      "cell_type": "code",
      "execution_count": 23,
      "metadata": {
        "id": "dLq9fNOuUo9m"
      },
      "outputs": [],
      "source": [
        "# Dados que quero obter previsão\n",
        "novo_dado = pd.DataFrame({ 'const': [1],\n",
        "                             'Temperatura': [18.5],\n",
        "                              'Pressão do Ar': [32.1],\n",
        "                              'Pressão ATM': [1008.20],\n",
        "                              'Umidade do Ar':[70.99]\n",
        "})"
      ]
    },
    {
      "cell_type": "code",
      "execution_count": 24,
      "metadata": {
        "colab": {
          "base_uri": "https://localhost:8080/"
        },
        "id": "JHLueF34VY-V",
        "outputId": "4d99100c-b95a-49e0-c0ce-62d7fe4ab54a"
      },
      "outputs": [
        {
          "data": {
            "text/plain": [
              "461.89171578104947"
            ]
          },
          "execution_count": 24,
          "metadata": {},
          "output_type": "execute_result"
        }
      ],
      "source": [
        "modelo_1.predict(novo_dado)[0]"
      ]
    },
    {
      "cell_type": "markdown",
      "metadata": {
        "id": "3DnJE3Ifcgwa"
      },
      "source": [
        "# Investigado a Multicolimulticolinearidade e Escolhendo o Modelo Final a ser Usado\n",
        "\n"
      ]
    },
    {
      "cell_type": "code",
      "execution_count": 25,
      "metadata": {
        "id": "vjSK8mO3VvbN"
      },
      "outputs": [],
      "source": [
        "explicativas_1 = ['const', 'Temperatura', 'Pressão do Ar', 'Pressão ATM', 'Umidade do Ar']\n",
        "\n",
        "explicativas_2 = ['const', 'Pressão ATM', 'Umidade do Ar']\n",
        "\n",
        "explicativas_3 = ['const', 'Pressão do Ar', 'Pressão ATM', 'Umidade do Ar']\n",
        "\n",
        "explicativas_4 = ['const', 'Temperatura', 'Pressão ATM', 'Umidade do Ar']"
      ]
    },
    {
      "cell_type": "code",
      "execution_count": 26,
      "metadata": {
        "colab": {
          "base_uri": "https://localhost:8080/",
          "height": 206
        },
        "id": "PV85BqoDW50l",
        "outputId": "0c4ec85e-4a89-4b09-c09c-d98091ca74ce"
      },
      "outputs": [
        {
          "data": {
            "text/html": [
              "<div>\n",
              "<style scoped>\n",
              "    .dataframe tbody tr th:only-of-type {\n",
              "        vertical-align: middle;\n",
              "    }\n",
              "\n",
              "    .dataframe tbody tr th {\n",
              "        vertical-align: top;\n",
              "    }\n",
              "\n",
              "    .dataframe thead th {\n",
              "        text-align: right;\n",
              "    }\n",
              "</style>\n",
              "<table border=\"1\" class=\"dataframe\">\n",
              "  <thead>\n",
              "    <tr style=\"text-align: right;\">\n",
              "      <th></th>\n",
              "      <th>variavel</th>\n",
              "      <th>vif</th>\n",
              "    </tr>\n",
              "  </thead>\n",
              "  <tbody>\n",
              "    <tr>\n",
              "      <th>0</th>\n",
              "      <td>const</td>\n",
              "      <td>43351.439046</td>\n",
              "    </tr>\n",
              "    <tr>\n",
              "      <th>1</th>\n",
              "      <td>Temperatura</td>\n",
              "      <td>6.047881</td>\n",
              "    </tr>\n",
              "    <tr>\n",
              "      <th>2</th>\n",
              "      <td>Pressão do Ar</td>\n",
              "      <td>3.977541</td>\n",
              "    </tr>\n",
              "    <tr>\n",
              "      <th>3</th>\n",
              "      <td>Pressão ATM</td>\n",
              "      <td>1.445375</td>\n",
              "    </tr>\n",
              "    <tr>\n",
              "      <th>4</th>\n",
              "      <td>Umidade do Ar</td>\n",
              "      <td>1.725387</td>\n",
              "    </tr>\n",
              "  </tbody>\n",
              "</table>\n",
              "</div>"
            ],
            "text/plain": [
              "        variavel           vif\n",
              "0          const  43351.439046\n",
              "1    Temperatura      6.047881\n",
              "2  Pressão do Ar      3.977541\n",
              "3    Pressão ATM      1.445375\n",
              "4  Umidade do Ar      1.725387"
            ]
          },
          "execution_count": 26,
          "metadata": {},
          "output_type": "execute_result"
        }
      ],
      "source": [
        "# VIF 1\n",
        "vif_1 = pd.DataFrame()\n",
        "vif_1['variavel'] = explicativas_1\n",
        "\n",
        "vif_1[\"vif\"] = [ variance_inflation_factor(X_train[explicativas_1], i ) for i in range(len(explicativas_1))]\n",
        "\n",
        "vif_1"
      ]
    },
    {
      "cell_type": "code",
      "execution_count": 27,
      "metadata": {
        "colab": {
          "base_uri": "https://localhost:8080/",
          "height": 143
        },
        "id": "GKpa1RyiXJJK",
        "outputId": "b068f3ef-8b0e-4e89-b2c5-b003fe4a910d"
      },
      "outputs": [
        {
          "data": {
            "text/html": [
              "<div>\n",
              "<style scoped>\n",
              "    .dataframe tbody tr th:only-of-type {\n",
              "        vertical-align: middle;\n",
              "    }\n",
              "\n",
              "    .dataframe tbody tr th {\n",
              "        vertical-align: top;\n",
              "    }\n",
              "\n",
              "    .dataframe thead th {\n",
              "        text-align: right;\n",
              "    }\n",
              "</style>\n",
              "<table border=\"1\" class=\"dataframe\">\n",
              "  <thead>\n",
              "    <tr style=\"text-align: right;\">\n",
              "      <th></th>\n",
              "      <th>variavel</th>\n",
              "      <th>vif</th>\n",
              "    </tr>\n",
              "  </thead>\n",
              "  <tbody>\n",
              "    <tr>\n",
              "      <th>0</th>\n",
              "      <td>const</td>\n",
              "      <td>29092.580146</td>\n",
              "    </tr>\n",
              "    <tr>\n",
              "      <th>1</th>\n",
              "      <td>Pressão ATM</td>\n",
              "      <td>1.008318</td>\n",
              "    </tr>\n",
              "    <tr>\n",
              "      <th>2</th>\n",
              "      <td>Umidade do Ar</td>\n",
              "      <td>1.008318</td>\n",
              "    </tr>\n",
              "  </tbody>\n",
              "</table>\n",
              "</div>"
            ],
            "text/plain": [
              "        variavel           vif\n",
              "0          const  29092.580146\n",
              "1    Pressão ATM      1.008318\n",
              "2  Umidade do Ar      1.008318"
            ]
          },
          "execution_count": 27,
          "metadata": {},
          "output_type": "execute_result"
        }
      ],
      "source": [
        "# VIF 2\n",
        "vif_2 = pd.DataFrame()\n",
        "vif_2['variavel'] = explicativas_2\n",
        "\n",
        "vif_2[\"vif\"] = [ variance_inflation_factor(X_train[explicativas_2], i ) for i in range(len(explicativas_2))]\n",
        "\n",
        "vif_2"
      ]
    },
    {
      "cell_type": "code",
      "execution_count": 28,
      "metadata": {
        "colab": {
          "base_uri": "https://localhost:8080/",
          "height": 175
        },
        "id": "pMtkPVCeXRvy",
        "outputId": "74da34bc-9014-40e4-a850-68be2140e834"
      },
      "outputs": [
        {
          "data": {
            "text/html": [
              "<div>\n",
              "<style scoped>\n",
              "    .dataframe tbody tr th:only-of-type {\n",
              "        vertical-align: middle;\n",
              "    }\n",
              "\n",
              "    .dataframe tbody tr th {\n",
              "        vertical-align: top;\n",
              "    }\n",
              "\n",
              "    .dataframe thead th {\n",
              "        text-align: right;\n",
              "    }\n",
              "</style>\n",
              "<table border=\"1\" class=\"dataframe\">\n",
              "  <thead>\n",
              "    <tr style=\"text-align: right;\">\n",
              "      <th></th>\n",
              "      <th>variavel</th>\n",
              "      <th>vif</th>\n",
              "    </tr>\n",
              "  </thead>\n",
              "  <tbody>\n",
              "    <tr>\n",
              "      <th>0</th>\n",
              "      <td>const</td>\n",
              "      <td>35628.140916</td>\n",
              "    </tr>\n",
              "    <tr>\n",
              "      <th>1</th>\n",
              "      <td>Pressão do Ar</td>\n",
              "      <td>1.315454</td>\n",
              "    </tr>\n",
              "    <tr>\n",
              "      <th>2</th>\n",
              "      <td>Pressão ATM</td>\n",
              "      <td>1.199214</td>\n",
              "    </tr>\n",
              "    <tr>\n",
              "      <th>3</th>\n",
              "      <td>Umidade do Ar</td>\n",
              "      <td>1.107839</td>\n",
              "    </tr>\n",
              "  </tbody>\n",
              "</table>\n",
              "</div>"
            ],
            "text/plain": [
              "        variavel           vif\n",
              "0          const  35628.140916\n",
              "1  Pressão do Ar      1.315454\n",
              "2    Pressão ATM      1.199214\n",
              "3  Umidade do Ar      1.107839"
            ]
          },
          "execution_count": 28,
          "metadata": {},
          "output_type": "execute_result"
        }
      ],
      "source": [
        "# VIF 3\n",
        "vif_3 = pd.DataFrame()\n",
        "vif_3['variavel'] = explicativas_3\n",
        "\n",
        "vif_3[\"vif\"] = [ variance_inflation_factor(X_train[explicativas_3], i ) for i in range(len(explicativas_3))]\n",
        "\n",
        "vif_3"
      ]
    },
    {
      "cell_type": "code",
      "execution_count": 29,
      "metadata": {
        "colab": {
          "base_uri": "https://localhost:8080/",
          "height": 175
        },
        "id": "ZnhkAnFFXhe-",
        "outputId": "359e015f-9b66-4756-f4c8-ebf694da6624"
      },
      "outputs": [
        {
          "data": {
            "text/html": [
              "<div>\n",
              "<style scoped>\n",
              "    .dataframe tbody tr th:only-of-type {\n",
              "        vertical-align: middle;\n",
              "    }\n",
              "\n",
              "    .dataframe tbody tr th {\n",
              "        vertical-align: top;\n",
              "    }\n",
              "\n",
              "    .dataframe thead th {\n",
              "        text-align: right;\n",
              "    }\n",
              "</style>\n",
              "<table border=\"1\" class=\"dataframe\">\n",
              "  <thead>\n",
              "    <tr style=\"text-align: right;\">\n",
              "      <th></th>\n",
              "      <th>variavel</th>\n",
              "      <th>vif</th>\n",
              "    </tr>\n",
              "  </thead>\n",
              "  <tbody>\n",
              "    <tr>\n",
              "      <th>0</th>\n",
              "      <td>const</td>\n",
              "      <td>42706.038289</td>\n",
              "    </tr>\n",
              "    <tr>\n",
              "      <th>1</th>\n",
              "      <td>Temperatura</td>\n",
              "      <td>2.000158</td>\n",
              "    </tr>\n",
              "    <tr>\n",
              "      <th>2</th>\n",
              "      <td>Pressão ATM</td>\n",
              "      <td>1.421464</td>\n",
              "    </tr>\n",
              "    <tr>\n",
              "      <th>3</th>\n",
              "      <td>Umidade do Ar</td>\n",
              "      <td>1.512429</td>\n",
              "    </tr>\n",
              "  </tbody>\n",
              "</table>\n",
              "</div>"
            ],
            "text/plain": [
              "        variavel           vif\n",
              "0          const  42706.038289\n",
              "1    Temperatura      2.000158\n",
              "2    Pressão ATM      1.421464\n",
              "3  Umidade do Ar      1.512429"
            ]
          },
          "execution_count": 29,
          "metadata": {},
          "output_type": "execute_result"
        }
      ],
      "source": [
        "# VIF 4\n",
        "vif_4 = pd.DataFrame()\n",
        "vif_4['variavel'] = explicativas_4\n",
        "\n",
        "vif_4[\"vif\"] = [ variance_inflation_factor(X_train[explicativas_4], i ) for i in range(len(explicativas_4))]\n",
        "\n",
        "vif_4"
      ]
    },
    {
      "cell_type": "markdown",
      "metadata": {
        "id": "dH4NVgsbcvaE"
      },
      "source": [
        "*   Considerando a Multicolimulticolinearidade apresentada modelo 1, o melhor modelo a se usar seria o 2 ou 3 ou 4.\n",
        "*   Devido quantidade de parametros do modelo 3 ser maior que os outros, eu escolho ele como melhor opção.\n"
      ]
    },
    {
      "cell_type": "code",
      "execution_count": 30,
      "metadata": {
        "id": "xPMH-EL1YgVf"
      },
      "outputs": [],
      "source": [
        "# Treinando o modelo 3\n",
        "\n",
        "predict_3 = modelo_3.predict(X_test[['const', 'Pressão do Ar', 'Pressão ATM', 'Umidade do Ar']])"
      ]
    },
    {
      "cell_type": "code",
      "execution_count": 31,
      "metadata": {},
      "outputs": [
        {
          "data": {
            "text/plain": [
              "0.8065077036098535"
            ]
          },
          "execution_count": 31,
          "metadata": {},
          "output_type": "execute_result"
        }
      ],
      "source": [
        "# Qual o r² da previsão?\n",
        "modelo_3.rsquared"
      ]
    },
    {
      "cell_type": "code",
      "execution_count": 32,
      "metadata": {},
      "outputs": [
        {
          "name": "stdout",
          "output_type": "stream",
          "text": [
            "R²:  0.7973987261789112\n"
          ]
        }
      ],
      "source": [
        "# Qual o R² do treino?\n",
        "print(\"R²: \", r2_score(y_test, predict_3))"
      ]
    },
    {
      "cell_type": "code",
      "execution_count": 33,
      "metadata": {
        "id": "gQX42MHUaJkE"
      },
      "outputs": [],
      "source": [
        "# Dados que quero obter previsão sem a temperatura para o modelo 3\n",
        "novo_dado_3 = pd.DataFrame({ 'const': [1],\n",
        "                              'Pressão do Ar': [32.1],\n",
        "                              'Pressão ATM': [1008.20],\n",
        "                              'Umidade do Ar':[70.99]\n",
        "})"
      ]
    },
    {
      "cell_type": "code",
      "execution_count": 34,
      "metadata": {
        "colab": {
          "base_uri": "https://localhost:8080/"
        },
        "id": "ywzgtbrKZe5S",
        "outputId": "3684bd94-223e-4496-966f-b0f494ac2ae5"
      },
      "outputs": [
        {
          "name": "stdout",
          "output_type": "stream",
          "text": [
            "Valores de Energia Obtida no Modelo Inicial 1: 461.89171578104947\n",
            "Valores de Energia Obtida no Modelo Final 3: 473.61577083844446\n"
          ]
        }
      ],
      "source": [
        "#Comparando os 2 modelos treinados\n",
        "print(\"Valores de Energia Obtida no Modelo Inicial 1:\", modelo_1.predict(novo_dado)[0])\n",
        "print(\"Valores de Energia Obtida no Modelo Final 3:\", modelo_3.predict(novo_dado_3)[0])"
      ]
    },
    {
      "cell_type": "markdown",
      "metadata": {
        "id": "X1yjtGCua9mh"
      },
      "source": [
        "# Análise dos Resíduos do Modelo Final"
      ]
    },
    {
      "cell_type": "code",
      "execution_count": 35,
      "metadata": {
        "id": "MrCH3jzJam0i"
      },
      "outputs": [],
      "source": [
        "# Prevendo os valores do treino X_traind do modelo 3\n",
        "y_previsto_train = modelo_3.predict(X_train[explicativas_3])"
      ]
    },
    {
      "cell_type": "code",
      "execution_count": 36,
      "metadata": {
        "colab": {
          "base_uri": "https://localhost:8080/",
          "height": 559
        },
        "id": "jHrBdp37bJGE",
        "outputId": "92b03f94-8534-467b-f3f2-31c33835f300"
      },
      "outputs": [
        {
          "data": {
            "application/vnd.plotly.v1+json": {
              "config": {
                "plotlyServerURL": "https://plot.ly"
              },
              "data": [
                {
                  "hovertemplate": "Energia Prevista=%{x}<br>Energia real=%{y}<extra></extra>",
                  "legendgroup": "",
                  "marker": {
                    "color": "#636efa",
                    "symbol": "circle"
                  },
                  "mode": "markers",
                  "name": "",
                  "showlegend": false,
                  "type": "scattergl",
                  "x": {
                    "bdata": "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",
                    "dtype": "f8"
                  },
                  "xaxis": "x",
                  "y": {
                    "bdata": "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",
                    "dtype": "f8"
                  },
                  "yaxis": "y"
                }
              ],
              "layout": {
                "legend": {
                  "tracegroupgap": 0
                },
                "template": {
                  "data": {
                    "bar": [
                      {
                        "error_x": {
                          "color": "#2a3f5f"
                        },
                        "error_y": {
                          "color": "#2a3f5f"
                        },
                        "marker": {
                          "line": {
                            "color": "#E5ECF6",
                            "width": 0.5
                          },
                          "pattern": {
                            "fillmode": "overlay",
                            "size": 10,
                            "solidity": 0.2
                          }
                        },
                        "type": "bar"
                      }
                    ],
                    "barpolar": [
                      {
                        "marker": {
                          "line": {
                            "color": "#E5ECF6",
                            "width": 0.5
                          },
                          "pattern": {
                            "fillmode": "overlay",
                            "size": 10,
                            "solidity": 0.2
                          }
                        },
                        "type": "barpolar"
                      }
                    ],
                    "carpet": [
                      {
                        "aaxis": {
                          "endlinecolor": "#2a3f5f",
                          "gridcolor": "white",
                          "linecolor": "white",
                          "minorgridcolor": "white",
                          "startlinecolor": "#2a3f5f"
                        },
                        "baxis": {
                          "endlinecolor": "#2a3f5f",
                          "gridcolor": "white",
                          "linecolor": "white",
                          "minorgridcolor": "white",
                          "startlinecolor": "#2a3f5f"
                        },
                        "type": "carpet"
                      }
                    ],
                    "choropleth": [
                      {
                        "colorbar": {
                          "outlinewidth": 0,
                          "ticks": ""
                        },
                        "type": "choropleth"
                      }
                    ],
                    "contour": [
                      {
                        "colorbar": {
                          "outlinewidth": 0,
                          "ticks": ""
                        },
                        "colorscale": [
                          [
                            0,
                            "#0d0887"
                          ],
                          [
                            0.1111111111111111,
                            "#46039f"
                          ],
                          [
                            0.2222222222222222,
                            "#7201a8"
                          ],
                          [
                            0.3333333333333333,
                            "#9c179e"
                          ],
                          [
                            0.4444444444444444,
                            "#bd3786"
                          ],
                          [
                            0.5555555555555556,
                            "#d8576b"
                          ],
                          [
                            0.6666666666666666,
                            "#ed7953"
                          ],
                          [
                            0.7777777777777778,
                            "#fb9f3a"
                          ],
                          [
                            0.8888888888888888,
                            "#fdca26"
                          ],
                          [
                            1,
                            "#f0f921"
                          ]
                        ],
                        "type": "contour"
                      }
                    ],
                    "contourcarpet": [
                      {
                        "colorbar": {
                          "outlinewidth": 0,
                          "ticks": ""
                        },
                        "type": "contourcarpet"
                      }
                    ],
                    "heatmap": [
                      {
                        "colorbar": {
                          "outlinewidth": 0,
                          "ticks": ""
                        },
                        "colorscale": [
                          [
                            0,
                            "#0d0887"
                          ],
                          [
                            0.1111111111111111,
                            "#46039f"
                          ],
                          [
                            0.2222222222222222,
                            "#7201a8"
                          ],
                          [
                            0.3333333333333333,
                            "#9c179e"
                          ],
                          [
                            0.4444444444444444,
                            "#bd3786"
                          ],
                          [
                            0.5555555555555556,
                            "#d8576b"
                          ],
                          [
                            0.6666666666666666,
                            "#ed7953"
                          ],
                          [
                            0.7777777777777778,
                            "#fb9f3a"
                          ],
                          [
                            0.8888888888888888,
                            "#fdca26"
                          ],
                          [
                            1,
                            "#f0f921"
                          ]
                        ],
                        "type": "heatmap"
                      }
                    ],
                    "histogram": [
                      {
                        "marker": {
                          "pattern": {
                            "fillmode": "overlay",
                            "size": 10,
                            "solidity": 0.2
                          }
                        },
                        "type": "histogram"
                      }
                    ],
                    "histogram2d": [
                      {
                        "colorbar": {
                          "outlinewidth": 0,
                          "ticks": ""
                        },
                        "colorscale": [
                          [
                            0,
                            "#0d0887"
                          ],
                          [
                            0.1111111111111111,
                            "#46039f"
                          ],
                          [
                            0.2222222222222222,
                            "#7201a8"
                          ],
                          [
                            0.3333333333333333,
                            "#9c179e"
                          ],
                          [
                            0.4444444444444444,
                            "#bd3786"
                          ],
                          [
                            0.5555555555555556,
                            "#d8576b"
                          ],
                          [
                            0.6666666666666666,
                            "#ed7953"
                          ],
                          [
                            0.7777777777777778,
                            "#fb9f3a"
                          ],
                          [
                            0.8888888888888888,
                            "#fdca26"
                          ],
                          [
                            1,
                            "#f0f921"
                          ]
                        ],
                        "type": "histogram2d"
                      }
                    ],
                    "histogram2dcontour": [
                      {
                        "colorbar": {
                          "outlinewidth": 0,
                          "ticks": ""
                        },
                        "colorscale": [
                          [
                            0,
                            "#0d0887"
                          ],
                          [
                            0.1111111111111111,
                            "#46039f"
                          ],
                          [
                            0.2222222222222222,
                            "#7201a8"
                          ],
                          [
                            0.3333333333333333,
                            "#9c179e"
                          ],
                          [
                            0.4444444444444444,
                            "#bd3786"
                          ],
                          [
                            0.5555555555555556,
                            "#d8576b"
                          ],
                          [
                            0.6666666666666666,
                            "#ed7953"
                          ],
                          [
                            0.7777777777777778,
                            "#fb9f3a"
                          ],
                          [
                            0.8888888888888888,
                            "#fdca26"
                          ],
                          [
                            1,
                            "#f0f921"
                          ]
                        ],
                        "type": "histogram2dcontour"
                      }
                    ],
                    "mesh3d": [
                      {
                        "colorbar": {
                          "outlinewidth": 0,
                          "ticks": ""
                        },
                        "type": "mesh3d"
                      }
                    ],
                    "parcoords": [
                      {
                        "line": {
                          "colorbar": {
                            "outlinewidth": 0,
                            "ticks": ""
                          }
                        },
                        "type": "parcoords"
                      }
                    ],
                    "pie": [
                      {
                        "automargin": true,
                        "type": "pie"
                      }
                    ],
                    "scatter": [
                      {
                        "fillpattern": {
                          "fillmode": "overlay",
                          "size": 10,
                          "solidity": 0.2
                        },
                        "type": "scatter"
                      }
                    ],
                    "scatter3d": [
                      {
                        "line": {
                          "colorbar": {
                            "outlinewidth": 0,
                            "ticks": ""
                          }
                        },
                        "marker": {
                          "colorbar": {
                            "outlinewidth": 0,
                            "ticks": ""
                          }
                        },
                        "type": "scatter3d"
                      }
                    ],
                    "scattercarpet": [
                      {
                        "marker": {
                          "colorbar": {
                            "outlinewidth": 0,
                            "ticks": ""
                          }
                        },
                        "type": "scattercarpet"
                      }
                    ],
                    "scattergeo": [
                      {
                        "marker": {
                          "colorbar": {
                            "outlinewidth": 0,
                            "ticks": ""
                          }
                        },
                        "type": "scattergeo"
                      }
                    ],
                    "scattergl": [
                      {
                        "marker": {
                          "colorbar": {
                            "outlinewidth": 0,
                            "ticks": ""
                          }
                        },
                        "type": "scattergl"
                      }
                    ],
                    "scattermap": [
                      {
                        "marker": {
                          "colorbar": {
                            "outlinewidth": 0,
                            "ticks": ""
                          }
                        },
                        "type": "scattermap"
                      }
                    ],
                    "scattermapbox": [
                      {
                        "marker": {
                          "colorbar": {
                            "outlinewidth": 0,
                            "ticks": ""
                          }
                        },
                        "type": "scattermapbox"
                      }
                    ],
                    "scatterpolar": [
                      {
                        "marker": {
                          "colorbar": {
                            "outlinewidth": 0,
                            "ticks": ""
                          }
                        },
                        "type": "scatterpolar"
                      }
                    ],
                    "scatterpolargl": [
                      {
                        "marker": {
                          "colorbar": {
                            "outlinewidth": 0,
                            "ticks": ""
                          }
                        },
                        "type": "scatterpolargl"
                      }
                    ],
                    "scatterternary": [
                      {
                        "marker": {
                          "colorbar": {
                            "outlinewidth": 0,
                            "ticks": ""
                          }
                        },
                        "type": "scatterternary"
                      }
                    ],
                    "surface": [
                      {
                        "colorbar": {
                          "outlinewidth": 0,
                          "ticks": ""
                        },
                        "colorscale": [
                          [
                            0,
                            "#0d0887"
                          ],
                          [
                            0.1111111111111111,
                            "#46039f"
                          ],
                          [
                            0.2222222222222222,
                            "#7201a8"
                          ],
                          [
                            0.3333333333333333,
                            "#9c179e"
                          ],
                          [
                            0.4444444444444444,
                            "#bd3786"
                          ],
                          [
                            0.5555555555555556,
                            "#d8576b"
                          ],
                          [
                            0.6666666666666666,
                            "#ed7953"
                          ],
                          [
                            0.7777777777777778,
                            "#fb9f3a"
                          ],
                          [
                            0.8888888888888888,
                            "#fdca26"
                          ],
                          [
                            1,
                            "#f0f921"
                          ]
                        ],
                        "type": "surface"
                      }
                    ],
                    "table": [
                      {
                        "cells": {
                          "fill": {
                            "color": "#EBF0F8"
                          },
                          "line": {
                            "color": "white"
                          }
                        },
                        "header": {
                          "fill": {
                            "color": "#C8D4E3"
                          },
                          "line": {
                            "color": "white"
                          }
                        },
                        "type": "table"
                      }
                    ]
                  },
                  "layout": {
                    "annotationdefaults": {
                      "arrowcolor": "#2a3f5f",
                      "arrowhead": 0,
                      "arrowwidth": 1
                    },
                    "autotypenumbers": "strict",
                    "coloraxis": {
                      "colorbar": {
                        "outlinewidth": 0,
                        "ticks": ""
                      }
                    },
                    "colorscale": {
                      "diverging": [
                        [
                          0,
                          "#8e0152"
                        ],
                        [
                          0.1,
                          "#c51b7d"
                        ],
                        [
                          0.2,
                          "#de77ae"
                        ],
                        [
                          0.3,
                          "#f1b6da"
                        ],
                        [
                          0.4,
                          "#fde0ef"
                        ],
                        [
                          0.5,
                          "#f7f7f7"
                        ],
                        [
                          0.6,
                          "#e6f5d0"
                        ],
                        [
                          0.7,
                          "#b8e186"
                        ],
                        [
                          0.8,
                          "#7fbc41"
                        ],
                        [
                          0.9,
                          "#4d9221"
                        ],
                        [
                          1,
                          "#276419"
                        ]
                      ],
                      "sequential": [
                        [
                          0,
                          "#0d0887"
                        ],
                        [
                          0.1111111111111111,
                          "#46039f"
                        ],
                        [
                          0.2222222222222222,
                          "#7201a8"
                        ],
                        [
                          0.3333333333333333,
                          "#9c179e"
                        ],
                        [
                          0.4444444444444444,
                          "#bd3786"
                        ],
                        [
                          0.5555555555555556,
                          "#d8576b"
                        ],
                        [
                          0.6666666666666666,
                          "#ed7953"
                        ],
                        [
                          0.7777777777777778,
                          "#fb9f3a"
                        ],
                        [
                          0.8888888888888888,
                          "#fdca26"
                        ],
                        [
                          1,
                          "#f0f921"
                        ]
                      ],
                      "sequentialminus": [
                        [
                          0,
                          "#0d0887"
                        ],
                        [
                          0.1111111111111111,
                          "#46039f"
                        ],
                        [
                          0.2222222222222222,
                          "#7201a8"
                        ],
                        [
                          0.3333333333333333,
                          "#9c179e"
                        ],
                        [
                          0.4444444444444444,
                          "#bd3786"
                        ],
                        [
                          0.5555555555555556,
                          "#d8576b"
                        ],
                        [
                          0.6666666666666666,
                          "#ed7953"
                        ],
                        [
                          0.7777777777777778,
                          "#fb9f3a"
                        ],
                        [
                          0.8888888888888888,
                          "#fdca26"
                        ],
                        [
                          1,
                          "#f0f921"
                        ]
                      ]
                    },
                    "colorway": [
                      "#636efa",
                      "#EF553B",
                      "#00cc96",
                      "#ab63fa",
                      "#FFA15A",
                      "#19d3f3",
                      "#FF6692",
                      "#B6E880",
                      "#FF97FF",
                      "#FECB52"
                    ],
                    "font": {
                      "color": "#2a3f5f"
                    },
                    "geo": {
                      "bgcolor": "white",
                      "lakecolor": "white",
                      "landcolor": "#E5ECF6",
                      "showlakes": true,
                      "showland": true,
                      "subunitcolor": "white"
                    },
                    "hoverlabel": {
                      "align": "left"
                    },
                    "hovermode": "closest",
                    "mapbox": {
                      "style": "light"
                    },
                    "paper_bgcolor": "white",
                    "plot_bgcolor": "#E5ECF6",
                    "polar": {
                      "angularaxis": {
                        "gridcolor": "white",
                        "linecolor": "white",
                        "ticks": ""
                      },
                      "bgcolor": "#E5ECF6",
                      "radialaxis": {
                        "gridcolor": "white",
                        "linecolor": "white",
                        "ticks": ""
                      }
                    },
                    "scene": {
                      "xaxis": {
                        "backgroundcolor": "#E5ECF6",
                        "gridcolor": "white",
                        "gridwidth": 2,
                        "linecolor": "white",
                        "showbackground": true,
                        "ticks": "",
                        "zerolinecolor": "white"
                      },
                      "yaxis": {
                        "backgroundcolor": "#E5ECF6",
                        "gridcolor": "white",
                        "gridwidth": 2,
                        "linecolor": "white",
                        "showbackground": true,
                        "ticks": "",
                        "zerolinecolor": "white"
                      },
                      "zaxis": {
                        "backgroundcolor": "#E5ECF6",
                        "gridcolor": "white",
                        "gridwidth": 2,
                        "linecolor": "white",
                        "showbackground": true,
                        "ticks": "",
                        "zerolinecolor": "white"
                      }
                    },
                    "shapedefaults": {
                      "line": {
                        "color": "#2a3f5f"
                      }
                    },
                    "ternary": {
                      "aaxis": {
                        "gridcolor": "white",
                        "linecolor": "white",
                        "ticks": ""
                      },
                      "baxis": {
                        "gridcolor": "white",
                        "linecolor": "white",
                        "ticks": ""
                      },
                      "bgcolor": "#E5ECF6",
                      "caxis": {
                        "gridcolor": "white",
                        "linecolor": "white",
                        "ticks": ""
                      }
                    },
                    "title": {
                      "x": 0.05
                    },
                    "xaxis": {
                      "automargin": true,
                      "gridcolor": "white",
                      "linecolor": "white",
                      "ticks": "",
                      "title": {
                        "standoff": 15
                      },
                      "zerolinecolor": "white",
                      "zerolinewidth": 2
                    },
                    "yaxis": {
                      "automargin": true,
                      "gridcolor": "white",
                      "linecolor": "white",
                      "ticks": "",
                      "title": {
                        "standoff": 15
                      },
                      "zerolinecolor": "white",
                      "zerolinewidth": 2
                    }
                  }
                },
                "title": {
                  "text": "Previsão X Real"
                },
                "xaxis": {
                  "anchor": "y",
                  "domain": [
                    0,
                    1
                  ],
                  "title": {
                    "text": "Energia Prevista"
                  }
                },
                "yaxis": {
                  "anchor": "x",
                  "domain": [
                    0,
                    1
                  ],
                  "title": {
                    "text": "Energia real"
                  }
                }
              }
            }
          },
          "metadata": {},
          "output_type": "display_data"
        },
        {
          "name": "stdout",
          "output_type": "stream",
          "text": [
            "Como visto no gráfico, o modelo está bem próximo da realidade\n"
          ]
        }
      ],
      "source": [
        "# Fazendo um scatter plot entre y_previsto e y_train\n",
        "\n",
        "fig = px.scatter(x= y_previsto_train    , y= y_train,\n",
        "                 title='Previsão X Real',\n",
        "                 labels={'x':'Energia Prevista','y':'Energia real'})\n",
        "fig.show()\n",
        "print(\"Como visto no gráfico, o modelo está bem próximo da realidade\")"
      ]
    }
  ],
  "metadata": {
    "colab": {
      "collapsed_sections": [
        "ao1t2nsdeVBF",
        "ko-hmkBmdU-R",
        "g9VKo4HpeOjr",
        "3DnJE3Ifcgwa",
        "X1yjtGCua9mh"
      ],
      "provenance": []
    },
    "kernelspec": {
      "display_name": "Python 3",
      "name": "python3"
    },
    "language_info": {
      "codemirror_mode": {
        "name": "ipython",
        "version": 3
      },
      "file_extension": ".py",
      "mimetype": "text/x-python",
      "name": "python",
      "nbconvert_exporter": "python",
      "pygments_lexer": "ipython3",
      "version": "3.12.1"
    }
  },
  "nbformat": 4,
  "nbformat_minor": 0
}
